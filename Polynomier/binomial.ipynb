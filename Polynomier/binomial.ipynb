{
 "cells": [
  {
   "cell_type": "code",
   "execution_count": 19,
   "metadata": {},
   "outputs": [],
   "source": [
    "import cmath"
   ]
  },
  {
   "cell_type": "markdown",
   "metadata": {},
   "source": [
    "# Binomial Equation Solving"
   ]
  },
  {
   "cell_type": "code",
   "execution_count": 20,
   "metadata": {},
   "outputs": [],
   "source": [
    "w = complex(.8000000000, .6250000000)\n",
    "n = 4 # opløftet i Z^n aka hvor mange p in {0,...,n-1}"
   ]
  },
  {
   "cell_type": "code",
   "execution_count": 21,
   "metadata": {},
   "outputs": [
    {
     "name": "stdout",
     "output_type": "stream",
     "text": [
      "\n",
      "p = 0:  Re:  0.99 , Im:  0.166\n",
      "\n",
      "p = 1:  Re:  -0.166 , Im:  0.99\n",
      "\n",
      "p = 2:  Re:  -0.99 , Im:  -0.166\n",
      "\n",
      "p = 3:  Re:  0.166 , Im:  -0.99\n"
     ]
    }
   ],
   "source": [
    "for p in range(0,n):\n",
    "    print(f\"\\np = {p}: \", \"Re: \",round((cmath.polar(w)[0]**(1/n)*cmath.exp(complex(0,1)*(cmath.polar(w)[1]/n+(2*cmath.pi)/n*p))).real,3),\", Im: \",round((cmath.polar(w)[0]**(1/n)*cmath.exp(complex(0,1)*(cmath.polar(w)[1]/n+(2*cmath.pi)/n*p))).imag,3) )"
   ]
  }
 ],
 "metadata": {
  "kernelspec": {
   "display_name": "Python 3",
   "language": "python",
   "name": "python3"
  },
  "language_info": {
   "codemirror_mode": {
    "name": "ipython",
    "version": 3
   },
   "file_extension": ".py",
   "mimetype": "text/x-python",
   "name": "python",
   "nbconvert_exporter": "python",
   "pygments_lexer": "ipython3",
   "version": "3.12.6"
  }
 },
 "nbformat": 4,
 "nbformat_minor": 2
}
